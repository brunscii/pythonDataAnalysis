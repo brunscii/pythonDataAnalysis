{
 "cells": [
  {
   "cell_type": "code",
   "execution_count": 3,
   "metadata": {},
   "outputs": [],
   "source": [
    "import numpy as np"
   ]
  },
  {
   "cell_type": "code",
   "execution_count": 11,
   "metadata": {},
   "outputs": [],
   "source": [
    "list = [0,1,2,3,4,5,6,7,8]"
   ]
  },
  {
   "cell_type": "code",
   "execution_count": 17,
   "metadata": {},
   "outputs": [],
   "source": [
    "calculations = np.array(list)"
   ]
  },
  {
   "cell_type": "code",
   "execution_count": 18,
   "metadata": {},
   "outputs": [
    {
     "name": "stdout",
     "output_type": "stream",
     "text": [
      "[0 1 2 3 4 5 6 7 8]\n"
     ]
    }
   ],
   "source": [
    "print(calculations)"
   ]
  },
  {
   "cell_type": "code",
   "execution_count": 20,
   "metadata": {},
   "outputs": [],
   "source": [
    "calculations = calculations.reshape(3,3)"
   ]
  },
  {
   "cell_type": "code",
   "execution_count": 43,
   "metadata": {},
   "outputs": [
    {
     "name": "stdout",
     "output_type": "stream",
     "text": [
      "1.0\n",
      "0.6666666666666666\n",
      "4.0\n",
      "0.6666666666666666\n",
      "7.0\n",
      "0.6666666666666666\n"
     ]
    }
   ],
   "source": [
    "for i in calculations:\n",
    "  print(i.mean())\n",
    "  print(i.var())"
   ]
  },
  {
   "cell_type": "code",
   "execution_count": 45,
   "metadata": {},
   "outputs": [
    {
     "name": "stdout",
     "output_type": "stream",
     "text": [
      "3.0\n",
      "6.0\n",
      "2.449489742783178\n",
      "4.0\n",
      "6.0\n",
      "2.449489742783178\n",
      "5.0\n",
      "6.0\n",
      "2.449489742783178\n"
     ]
    }
   ],
   "source": [
    "for i in calculations.T:\n",
    "  print(i.mean())\n",
    "  print(i.var())\n",
    "  print(i.std())\n"
   ]
  },
  {
   "cell_type": "code",
   "execution_count": 48,
   "metadata": {},
   "outputs": [
    {
     "name": "stdout",
     "output_type": "stream",
     "text": [
      "[3. 4. 5.]\n"
     ]
    }
   ],
   "source": [
    "print(calculations.mean(axis=0))"
   ]
  },
  {
   "cell_type": "code",
   "execution_count": 60,
   "metadata": {},
   "outputs": [
    {
     "name": "stdout",
     "output_type": "stream",
     "text": [
      "{'mean': [array([3., 4., 5.]), array([1., 4., 7.]), 4.0], 'variance': [array([6., 6., 6.]), array([0.66666667, 0.66666667, 0.66666667]), 6.666666666666667], 'standard deviation': [array([2.44948974, 2.44948974, 2.44948974]), array([0.66666667, 0.66666667, 0.66666667]), 6.666666666666667], 'max': [array([6, 7, 8]), array([2, 5, 8]), 8], 'min': [array([0, 1, 2]), array([0, 3, 6]), 0], 'sum': [array([ 9, 12, 15]), array([ 3, 12, 21]), 36]}\n"
     ]
    }
   ],
   "source": [
    "ls = np.array(list).reshape(3,3)\n",
    "calculations = {\n",
    "      'mean': [ ls.mean( axis=0 ), ls.mean( axis=1 ), ls.mean() ],\n",
    "      'variance': [ ls.var( axis=0 ), ls.var( axis=1 ), ls.var() ],\n",
    "      'standard deviation': [ ls.std( axis=0 ), ls.var(axis=1), ls.var() ],\n",
    "      'max': [ ls.max( axis=0 ), ls.max( axis=1 ), ls.max() ],\n",
    "      'min': [ ls.min( axis=0 ), ls.min( axis=1 ), ls.min() ],\n",
    "      'sum': [ ls.sum( axis = 0 ), ls.sum( axis = 1 ), ls.sum() ]\n",
    "    }\n",
    "print(calculations)"
   ]
  },
  {
   "cell_type": "code",
   "execution_count": 53,
   "metadata": {},
   "outputs": [
    {
     "name": "stdout",
     "output_type": "stream",
     "text": [
      "[3. 4. 5.]\n"
     ]
    }
   ],
   "source": [
    "print(ls.mean( axis=0 ))"
   ]
  },
  {
   "cell_type": "code",
   "execution_count": 59,
   "metadata": {},
   "outputs": [
    {
     "name": "stdout",
     "output_type": "stream",
     "text": [
      "[[0 1 2]\n",
      " [3 4 5]\n",
      " [6 7 8]]\n"
     ]
    }
   ],
   "source": [
    "print(ls.view())"
   ]
  }
 ],
 "metadata": {
  "kernelspec": {
   "display_name": "Python 3",
   "language": "python",
   "name": "python3"
  },
  "language_info": {
   "codemirror_mode": {
    "name": "ipython",
    "version": 3
   },
   "file_extension": ".py",
   "mimetype": "text/x-python",
   "name": "python",
   "nbconvert_exporter": "python",
   "pygments_lexer": "ipython3",
   "version": "3.10.11"
  }
 },
 "nbformat": 4,
 "nbformat_minor": 2
}
