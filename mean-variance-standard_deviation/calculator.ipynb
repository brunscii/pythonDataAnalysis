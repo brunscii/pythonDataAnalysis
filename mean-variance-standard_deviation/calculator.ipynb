{
 "cells": [
  {
   "cell_type": "markdown",
   "metadata": {},
   "source": [
    "> # <center>Mean-Variance-Standard Deviation Calculator</center>\n",
    "> \n",
    "> You will be <u>[working on this project with our Replit starter code.](https://replit.com/github/freeCodeCamp/boilerplate-mean-variance-standard-deviation-calculator)</u>\n",
    "> \n",
    "> - Start by importing the project on Replit.\n",
    "> - Next, you will see a `.replit` window.\n",
    "> - Select `Use run command` and click the `Done` button.\n",
    "> \n",
    "> We are still developing the interactive instructional part of the Python curriculum. For now, here are some videos on the freeCodeCamp.org YouTube channel that will teach you everything you need to know to complete this project:\n",
    "> \n",
    "> - [Python for Everybody Video Course (14 hours)](https://www.freecodecamp.org/news/python-for-everybody/)\n",
    "> \n",
    "> - [How to Analyze Data with Python Pandas (10 hours)](https://www.freecodecamp.org/news/how-to-analyze-data-with-python-pandas/)\n",
    "> \n",
    "> Create a function named `calculate()` in `mean_var_std.py` that uses Numpy to output the mean, variance, standard deviation, max, min, and sum of the rows, columns, and elements in a 3 x 3 matrix.\n",
    "> \n",
    "> The input of the function should be a list containing 9 digits. The function should convert the list into a 3 x 3 Numpy array, and then return a dictionary containing the mean, variance, standard deviation, max, min, and sum along both axes and for the flattened matrix.\n",
    "> \n",
    "> The returned dictionary should follow this format:\n",
    "> \n",
    "> ```Python {\n",
    ">    'mean': [axis1, axis2, flattened],\n",
    ">    'variance': [axis1, axis2, flattened],\n",
    ">    'standard deviation': [axis1, axis2, flattened],\n",
    ">    'max': [axis1, axis2, flattened],\n",
    ">    'min': [axis1, axis2, flattened],\n",
    ">    'sum': [axis1, axis2, flattened]\n",
    ">  }\n",
    "> ```\n",
    "> If a list containing less than 9 elements is passed into the function, it should raise a ValueError exception with the message: \"List must contain nine numbers.\" The values in the returned dictionary should be lists and not Numpy arrays.\n",
    "> \n",
    "> For example, `calculate([0,1,2,3,4,5,6,7,8])` should return:\n",
    "> ```Python\n",
    "> {\n",
    ">   'mean': [[3.0, 4.0, 5.0], [1.0, 4.0, 7.0], 4.0],\n",
    ">   'variance': [[6.0, 6.0, 6.0], [0.6666666666666666, 0.6666666666666666, 0.6666666666666666], 6.666666666666667],\n",
    ">   'standard deviation': [[2.449489742783178, 2.449489742783178, 2.449489742783178], [0.816496580927726, 0.816496580927726, 0.816496580927726], 2.581988897471611],\n",
    ">   'max': [[6, 7, 8], [2, 5, 8], 8],\n",
    ">   'min': [[0, 1, 2], [0, 3, 6], 0],\n",
    ">   'sum': [[9, 12, 15], [3, 12, 21], 36]\n",
    "> } \n",
    "> ```\n",
    "> The unit tests for this project are in `test_module.py`.\n",
    "> \n",
    "> #### Development\n",
    "> For development, you can use `main.py` to test your `calculate()` function. Click the \"run\" button and `main.py` will run.\n",
    "> \n",
    "> #### Testing\n",
    "> We imported the tests from `test_module.py` to `main.py` for your convenience. The tests will run automatically whenever you hit the \"run\" button.\n",
    "> \n",
    "> #### Submitting\n",
    "> Copy your project's URL and submit it to freeCodeCamp."
   ]
  },
  {
   "cell_type": "markdown",
   "metadata": {},
   "source": [
    "### Imports\n",
    "---"
   ]
  },
  {
   "cell_type": "code",
   "execution_count": 1,
   "metadata": {},
   "outputs": [],
   "source": [
    "import numpy as np"
   ]
  },
  {
   "cell_type": "markdown",
   "metadata": {},
   "source": [
    "### Create and reshape the list from the example\n",
    "---"
   ]
  },
  {
   "cell_type": "code",
   "execution_count": 2,
   "metadata": {},
   "outputs": [],
   "source": [
    "list = [0,1,2,3,4,5,6,7,8]"
   ]
  },
  {
   "cell_type": "code",
   "execution_count": 7,
   "metadata": {},
   "outputs": [],
   "source": [
    "calculations = np.array(list).reshape(3,3)"
   ]
  },
  {
   "cell_type": "code",
   "execution_count": 8,
   "metadata": {},
   "outputs": [
    {
     "name": "stdout",
     "output_type": "stream",
     "text": [
      "[[0 1 2]\n",
      " [3 4 5]\n",
      " [6 7 8]]\n"
     ]
    }
   ],
   "source": [
    "print(calculations)"
   ]
  },
  {
   "cell_type": "code",
   "execution_count": 9,
   "metadata": {},
   "outputs": [
    {
     "name": "stdout",
     "output_type": "stream",
     "text": [
      "1.0\n",
      "0.6666666666666666\n",
      "4.0\n",
      "0.6666666666666666\n",
      "7.0\n",
      "0.6666666666666666\n"
     ]
    }
   ],
   "source": [
    "for i in calculations:\n",
    "  print(i.mean())\n",
    "  print(i.var())"
   ]
  },
  {
   "cell_type": "code",
   "execution_count": 10,
   "metadata": {},
   "outputs": [
    {
     "name": "stdout",
     "output_type": "stream",
     "text": [
      "3.0\n",
      "6.0\n",
      "2.449489742783178\n",
      "4.0\n",
      "6.0\n",
      "2.449489742783178\n",
      "5.0\n",
      "6.0\n",
      "2.449489742783178\n"
     ]
    }
   ],
   "source": [
    "for i in calculations.T:\n",
    "  print(i.mean())\n",
    "  print(i.var())\n",
    "  print(i.std())\n"
   ]
  },
  {
   "cell_type": "code",
   "execution_count": null,
   "metadata": {},
   "outputs": [
    {
     "name": "stdout",
     "output_type": "stream",
     "text": [
      "[3. 4. 5.]\n"
     ]
    }
   ],
   "source": [
    "print(calculations.mean(axis=0))"
   ]
  },
  {
   "cell_type": "markdown",
   "metadata": {},
   "source": [
    "### Format the output as an object\n",
    "---"
   ]
  },
  {
   "cell_type": "code",
   "execution_count": 18,
   "metadata": {},
   "outputs": [
    {
     "name": "stdout",
     "output_type": "stream",
     "text": [
      "mean [[3.0, 4.0, 5.0], [1.0, 4.0, 7.0], 4.0]\n",
      "variance [[6.0, 6.0, 6.0], [0.6666666666666666, 0.6666666666666666, 0.6666666666666666], 6.666666666666667]\n",
      "standard deviation [[2.449489742783178, 2.449489742783178, 2.449489742783178], [0.816496580927726, 0.816496580927726, 0.816496580927726], 2.581988897471611]\n",
      "max [[6, 7, 8], [2, 5, 8], 8]\n",
      "min [[0, 1, 2], [0, 3, 6], 0]\n",
      "sum [[9, 12, 15], [3, 12, 21], 36]\n"
     ]
    }
   ],
   "source": [
    "ls = np.array(list).reshape(3,3)\n",
    "calculations = {\n",
    "      'mean': [ ls.mean( axis=0 ).tolist() , ls.mean( axis=1 ).tolist(), ls.mean() ],\n",
    "      'variance': [ ls.var( axis=0 ).tolist(), ls.var( axis=1 ).tolist(), ls.var() ],\n",
    "      'standard deviation': [ ls.std( axis=0 ).tolist(), ls.std(axis=1).tolist(), ls.std() ],\n",
    "      'max': [ ls.max( axis=0 ).tolist(), ls.max( axis=1 ).tolist(), ls.max() ],\n",
    "      'min': [ ls.min( axis=0 ).tolist(), ls.min( axis=1 ).tolist(), ls.min() ],\n",
    "      'sum': [ ls.sum( axis = 0 ).tolist(), ls.sum( axis = 1 ).tolist(), ls.sum() ]\n",
    "    }\n",
    "\n",
    "\n",
    "for c in calculations :\n",
    "  print( c, calculations[c] )"
   ]
  },
  {
   "cell_type": "code",
   "execution_count": 14,
   "metadata": {},
   "outputs": [
    {
     "data": {
      "text/plain": [
       "[3.0, 4.0, 5.0]"
      ]
     },
     "execution_count": 14,
     "metadata": {},
     "output_type": "execute_result"
    }
   ],
   "source": [
    "ls.mean( axis=0 ).tolist()"
   ]
  },
  {
   "cell_type": "code",
   "execution_count": 13,
   "metadata": {},
   "outputs": [
    {
     "name": "stdout",
     "output_type": "stream",
     "text": [
      "[[0 1 2]\n",
      " [3 4 5]\n",
      " [6 7 8]]\n"
     ]
    }
   ],
   "source": [
    "print(ls.view())"
   ]
  },
  {
   "cell_type": "code",
   "execution_count": null,
   "metadata": {},
   "outputs": [],
   "source": []
  }
 ],
 "metadata": {
  "kernelspec": {
   "display_name": "Python 3",
   "language": "python",
   "name": "python3"
  },
  "language_info": {
   "codemirror_mode": {
    "name": "ipython",
    "version": 3
   },
   "file_extension": ".py",
   "mimetype": "text/x-python",
   "name": "python",
   "nbconvert_exporter": "python",
   "pygments_lexer": "ipython3",
   "version": "3.10.11"
  }
 },
 "nbformat": 4,
 "nbformat_minor": 2
}
